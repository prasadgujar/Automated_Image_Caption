{
 "cells": [
  {
   "cell_type": "code",
   "execution_count": 4,
   "metadata": {},
   "outputs": [
    {
     "name": "stdout",
     "output_type": "stream",
     "text": [
      "Loaded 8092\n",
      "Vocabulary Size: 4469\n",
      "Description Length: 32\n",
      "(8092, 32, 4469)\n"
     ]
    }
   ],
   "source": [
    "from keras.preprocessing.text import Tokenizer\n",
    "from keras.preprocessing.sequence import pad_sequences\n",
    "from keras.utils import to_categorical\n",
    "\n",
    "# load doc into memory \n",
    "def load_doc(filename):\n",
    "    #open the file as read only\n",
    "    file  = open(filename,'r')\n",
    "    # read all text\n",
    "    text = file.read()\n",
    "    # close the file\n",
    "    file.close()\n",
    "    return text\n",
    "\n",
    "# load clean descriptions into memory\n",
    "def load_clean_descriptions(filename):\n",
    "    doc = load_doc(filename)\n",
    "    descriptions = dict()\n",
    "    for line in doc.split('\\n'):\n",
    "        # split line white by white space\n",
    "        tokens = line.split()\n",
    "        # split id from description\n",
    "        image_id , image_desc = tokens[0], tokens[1:]\n",
    "        # store\n",
    "        descriptions[image_id] = ' '.join(image_desc)\n",
    "    return descriptions\n",
    "\n",
    "descriptions = load_clean_descriptions('descriptions.txt')\n",
    "print('Loaded %d' % (len(descriptions)))\n",
    "# exact all text\n",
    "desc_text = list(descriptions.values())\n",
    "#prepare tokenizer\n",
    "tokenizer = Tokenizer()\n",
    "tokenizer.fit_on_texts(desc_text)\n",
    "vocab_size = len(tokenizer.word_index) + 1\n",
    "print ('Vocabulary Size: %d' % vocab_size)\n",
    "# integer encode descriptions\n",
    "sequences = tokenizer.texts_to_sequences(desc_text)\n",
    "# pad all sequences to a fixed length\n",
    "max_length = max(len(s) for s in sequences)\n",
    "print('Description Length: %d' % max_length)\n",
    "padded =pad_sequences(sequences,maxlen=max_length,padding='post')\n",
    "#one hot encode\n",
    "y = to_categorical(padded,num_classes=vocab_size)\n",
    "y = y.reshape((len(descriptions),max_length,vocab_size))\n",
    "print(y.shape)\n"
   ]
  },
  {
   "cell_type": "code",
   "execution_count": null,
   "metadata": {},
   "outputs": [],
   "source": []
  }
 ],
 "metadata": {
  "kernelspec": {
   "display_name": "Python 3",
   "language": "python",
   "name": "python3"
  },
  "language_info": {
   "codemirror_mode": {
    "name": "ipython",
    "version": 3
   },
   "file_extension": ".py",
   "mimetype": "text/x-python",
   "name": "python",
   "nbconvert_exporter": "python",
   "pygments_lexer": "ipython3",
   "version": "3.6.4"
  }
 },
 "nbformat": 4,
 "nbformat_minor": 2
}
